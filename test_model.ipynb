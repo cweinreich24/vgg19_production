{
 "cells": [
  {
   "cell_type": "code",
   "execution_count": 23,
   "id": "17382986",
   "metadata": {},
   "outputs": [],
   "source": [
    "from keras.preprocessing.image import load_img\n",
    "from keras.preprocessing.image import img_to_array\n",
    "from keras.applications.vgg19 import preprocess_input\n",
    "from keras.applications.vgg19 import decode_predictions\n",
    "from keras.models import load_model\n",
    "import tensorflow as tf"
   ]
  },
  {
   "cell_type": "code",
   "execution_count": 24,
   "id": "bca0b679",
   "metadata": {},
   "outputs": [],
   "source": [
    "model = tf.keras.models.load_model('vgg19.h5')"
   ]
  },
  {
   "cell_type": "code",
   "execution_count": 25,
   "id": "f1e81d68",
   "metadata": {},
   "outputs": [],
   "source": [
    "def preprocess_image(image):\n",
    "    # make image into numpy array\n",
    "    image = img_to_array(image)\n",
    "\n",
    "    # reshape data for the model\n",
    "    image = image.reshape((1, image.shape[0], image.shape[1], image.shape[2]))\n",
    "\n",
    "    return image\n",
    "\n",
    "def prediction(image):\n",
    "    # predict the probability across all output classes\n",
    "    predict = model.predict(image)\n",
    "\n",
    "    # convert the probabilities to class labels\n",
    "    label = decode_predictions(predict)\n",
    "\n",
    "    # retrieve the most likely probability\n",
    "    label = label[0][0]\n",
    "\n",
    "    # return the classification\n",
    "    prediction = label[1]\n",
    "    print('%s (%.2f%%)' % (label[1], label[2]*100))\n",
    "\n",
    "    return prediction"
   ]
  },
  {
   "cell_type": "code",
   "execution_count": 26,
   "id": "e64e3259",
   "metadata": {},
   "outputs": [
    {
     "name": "stdout",
     "output_type": "stream",
     "text": [
      "Chihuahua (99.41%)\n",
      "Chihuahua\n"
     ]
    }
   ],
   "source": [
    "image = load_img('images/dog.jpg', target_size=(224, 224))\n",
    "image = preprocess_image(image)\n",
    "prediction = prediction(image)\n",
    "print(prediction)"
   ]
  },
  {
   "cell_type": "code",
   "execution_count": null,
   "id": "c7a375c8",
   "metadata": {},
   "outputs": [],
   "source": []
  }
 ],
 "metadata": {
  "kernelspec": {
   "display_name": "Python 3",
   "language": "python",
   "name": "python3"
  },
  "language_info": {
   "codemirror_mode": {
    "name": "ipython",
    "version": 3
   },
   "file_extension": ".py",
   "mimetype": "text/x-python",
   "name": "python",
   "nbconvert_exporter": "python",
   "pygments_lexer": "ipython3",
   "version": "3.8.8"
  }
 },
 "nbformat": 4,
 "nbformat_minor": 5
}
